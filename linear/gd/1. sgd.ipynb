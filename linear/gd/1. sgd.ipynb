{
 "cells": [
  {
   "cell_type": "code",
   "execution_count": 9,
   "metadata": {},
   "outputs": [],
   "source": [
    "import numpy as np\n",
    "import matplotlib.pyplot as plt\n",
    "import pandas as pd\n",
    "from sklearn.model_selection import train_test_split\n",
    "from sklearn.datasets import *"
   ]
  },
  {
   "cell_type": "code",
   "execution_count": 4,
   "metadata": {},
   "outputs": [
    {
     "data": {
      "text/plain": [
       "(array([0.95653747, 0.52283458, 0.09755742, 0.44597245, 0.16690035,\n",
       "        0.52822149, 0.17238905, 0.88354537, 0.25902007, 0.8193797 ]),\n",
       " array([[0.95653747, 0.52283458, 0.09755742, 0.44597245, 0.16690035,\n",
       "         0.52822149, 0.17238905, 0.88354537, 0.25902007, 0.8193797 ]]),\n",
       " (10,),\n",
       " (10, 1))"
      ]
     },
     "execution_count": 4,
     "metadata": {},
     "output_type": "execute_result"
    }
   ],
   "source": [
    "rand = np.random.random(10)\n",
    "rand, rand.reshape(1, -1), rand.shape, rand.reshape(-1, 1).shape"
   ]
  },
  {
   "cell_type": "code",
   "execution_count": 34,
   "metadata": {},
   "outputs": [],
   "source": [
    "X,y = load_iris(return_X_y=True, as_frame=True)\n",
    "X_train, X_test, y_train, y_test = train_test_split(X, y, test_size=0.2, random_state=42)"
   ]
  },
  {
   "cell_type": "code",
   "execution_count": 39,
   "metadata": {},
   "outputs": [
    {
     "name": "stderr",
     "output_type": "stream",
     "text": [
      "/opt/homebrew/anaconda3/envs/aman/lib/python3.9/site-packages/sklearn/linear_model/_stochastic_gradient.py:723: ConvergenceWarning: Maximum number of iteration reached before convergence. Consider increasing max_iter to improve the fit.\n",
      "  warnings.warn(\n"
     ]
    },
    {
     "data": {
      "text/plain": [
       "(array([2, 0, 2, 2, 2, 0, 0, 2, 2, 2, 2, 0, 0, 0, 0, 2, 2, 2, 2, 2, 0, 2,\n",
       "        0, 2, 2, 2, 2, 2, 0, 0]),\n",
       " 73     1\n",
       " 18     0\n",
       " 118    2\n",
       " 78     1\n",
       " 76     1\n",
       " 31     0\n",
       " 64     1\n",
       " 141    2\n",
       " 68     1\n",
       " 82     1\n",
       " 110    2\n",
       " 12     0\n",
       " 36     0\n",
       " 9      0\n",
       " 19     0\n",
       " 56     1\n",
       " 104    2\n",
       " 69     1\n",
       " 55     1\n",
       " 132    2\n",
       " 29     0\n",
       " 127    2\n",
       " 26     0\n",
       " 128    2\n",
       " 131    2\n",
       " 145    2\n",
       " 108    2\n",
       " 143    2\n",
       " 45     0\n",
       " 30     0\n",
       " Name: target, dtype: int64)"
      ]
     },
     "execution_count": 39,
     "metadata": {},
     "output_type": "execute_result"
    }
   ],
   "source": [
    "from sklearn.linear_model import SGDClassifier\n",
    "model = SGDClassifier(loss=\"hinge\", penalty=\"l2\", max_iter=5)\n",
    "model.fit(X_train, y_train)\n",
    "model.predict(X_test), y_test"
   ]
  },
  {
   "cell_type": "code",
   "execution_count": 83,
   "metadata": {},
   "outputs": [
    {
     "data": {
      "text/plain": [
       "0.7"
      ]
     },
     "execution_count": 83,
     "metadata": {},
     "output_type": "execute_result"
    }
   ],
   "source": [
    "model.score(X_test, y_test)"
   ]
  },
  {
   "cell_type": "code",
   "execution_count": 67,
   "metadata": {},
   "outputs": [
    {
     "name": "stdout",
     "output_type": "stream",
     "text": [
      "coef [[   9.38086304   30.6441526   -51.28205128  -20.63789869]\n",
      " [   4.37773609 -155.72232645    8.1300813   -93.80863039]\n",
      " [-150.7191995  -103.18949343  160.10006254  151.34459037]] (3, 4)\n",
      "intercept [  9.88126227  36.81674065 -73.29122927]\n",
      "coef [[  17.51094434   45.02814259  -73.17073171  -35.02188868]\n",
      " [  43.77736085 -126.3289556    35.64727955  -80.67542214]\n",
      " [ -92.55784866  -92.55784866  227.01688555  153.22076298]] (3, 4)\n",
      "intercept [ 19.75049457  30.88381572 -76.71720282]\n",
      "coef [[  10.63164478   37.52345216  -49.40587867  -21.26328956]\n",
      " [  35.64727955 -145.09068168   32.5203252   -93.18323952]\n",
      " [-124.45278299  -96.31019387  190.11882427  171.35709819]] (3, 4)\n",
      "intercept [  9.87225345  37.75835108 -90.98283624]\n",
      "coef [[   5.00312695   40.6504065   -62.53908693  -25.01563477]\n",
      " [  53.78361476 -114.44652908   48.7804878   -92.55784866]\n",
      " [ -95.684803    -88.18011257  156.34771732  116.32270169]] (3, 4)\n",
      "intercept [  9.90240048  36.06706258 -61.98569707]\n",
      "coef [[   4.37773609   17.51094434  -40.6504065   -20.01250782]\n",
      " [  33.77110694 -132.58286429   33.14571607  -91.93245779]\n",
      " [ -70.04377736  -99.43714822  123.82739212   98.18636648]] (3, 4)\n",
      "intercept [  9.85155131  28.96432255 -51.36450475]\n",
      "coef [[   8.75547217   41.90118824  -51.90744215  -27.51719825]\n",
      " [  36.27267042 -137.58599124   41.90118824  -46.27892433]\n",
      " [-123.20200125 -105.69105691  180.73796123  136.33520951]] (3, 4)\n",
      "intercept [  9.88197052  27.3281988  -67.73633597]\n",
      "coef [[   8.75547217   25.01563477  -43.77736085  -25.01563477]\n",
      " [   3.75234522 -168.23014384   23.13946216  -78.79924953]\n",
      " [-146.34146341 -139.46216385  193.24577861  155.72232645]] (3, 4)\n",
      "intercept [  9.82430473  24.756619   -85.2990171 ]\n",
      "coef [[  12.50781739   49.40587867  -63.78986867  -28.76797999]\n",
      " [  96.31019387 -110.69418386   44.40275172  -78.79924953]\n",
      " [-145.71607255 -106.31644778  131.33208255  116.94809256]] (3, 4)\n",
      "intercept [  9.73883744  54.65687926 -73.50593198]\n",
      "coef [[   9.38086304   23.13946216  -38.14884303  -16.2601626 ]\n",
      " [  45.02814259 -130.70669168   31.26954346  -82.55159475]\n",
      " [-108.19262039 -130.08130081  182.61413383  144.46529081]] (3, 4)\n",
      "intercept [  9.83174921  30.14233512 -81.92935719]\n",
      "coef [[   0.62539087    5.62851782  -10.00625391   -5.62851782]\n",
      " [  76.92307692 -150.7191995    85.05315822  -53.15822389]\n",
      " [-136.33520951 -164.47779862  207.62976861  148.84302689]] (3, 4)\n",
      "intercept [ 1.99600798e-02  4.45501273e+01 -9.85748954e+01]\n",
      "coef [[   3.75234522   28.76797999  -43.77736085  -23.13946216]\n",
      " [  36.27267042 -137.58599124   51.28205128  -61.91369606]\n",
      " [-120.0750469  -104.44027517  132.58286429   98.81175735]] (3, 4)\n",
      "intercept [  9.91046723  37.16060697 -76.26084568]\n",
      "coef [[  11.88242652   31.26954346  -53.15822389  -20.01250782]\n",
      " [  53.78361476 -128.20512821   21.26328956  -76.92307692]\n",
      " [-121.95121951 -128.83051907  202.62664165  130.70669168]] (3, 4)\n",
      "intercept [  9.82393234  51.85670398 -75.34869327]\n",
      "YAY 11\n"
     ]
    },
    {
     "name": "stderr",
     "output_type": "stream",
     "text": [
      "/opt/homebrew/anaconda3/envs/aman/lib/python3.9/site-packages/sklearn/linear_model/_stochastic_gradient.py:723: ConvergenceWarning: Maximum number of iteration reached before convergence. Consider increasing max_iter to improve the fit.\n",
      "  warnings.warn(\n",
      "/opt/homebrew/anaconda3/envs/aman/lib/python3.9/site-packages/sklearn/linear_model/_stochastic_gradient.py:723: ConvergenceWarning: Maximum number of iteration reached before convergence. Consider increasing max_iter to improve the fit.\n",
      "  warnings.warn(\n",
      "/opt/homebrew/anaconda3/envs/aman/lib/python3.9/site-packages/sklearn/linear_model/_stochastic_gradient.py:723: ConvergenceWarning: Maximum number of iteration reached before convergence. Consider increasing max_iter to improve the fit.\n",
      "  warnings.warn(\n",
      "/opt/homebrew/anaconda3/envs/aman/lib/python3.9/site-packages/sklearn/linear_model/_stochastic_gradient.py:723: ConvergenceWarning: Maximum number of iteration reached before convergence. Consider increasing max_iter to improve the fit.\n",
      "  warnings.warn(\n",
      "/opt/homebrew/anaconda3/envs/aman/lib/python3.9/site-packages/sklearn/linear_model/_stochastic_gradient.py:723: ConvergenceWarning: Maximum number of iteration reached before convergence. Consider increasing max_iter to improve the fit.\n",
      "  warnings.warn(\n",
      "/opt/homebrew/anaconda3/envs/aman/lib/python3.9/site-packages/sklearn/linear_model/_stochastic_gradient.py:723: ConvergenceWarning: Maximum number of iteration reached before convergence. Consider increasing max_iter to improve the fit.\n",
      "  warnings.warn(\n",
      "/opt/homebrew/anaconda3/envs/aman/lib/python3.9/site-packages/sklearn/linear_model/_stochastic_gradient.py:723: ConvergenceWarning: Maximum number of iteration reached before convergence. Consider increasing max_iter to improve the fit.\n",
      "  warnings.warn(\n",
      "/opt/homebrew/anaconda3/envs/aman/lib/python3.9/site-packages/sklearn/linear_model/_stochastic_gradient.py:723: ConvergenceWarning: Maximum number of iteration reached before convergence. Consider increasing max_iter to improve the fit.\n",
      "  warnings.warn(\n",
      "/opt/homebrew/anaconda3/envs/aman/lib/python3.9/site-packages/sklearn/linear_model/_stochastic_gradient.py:723: ConvergenceWarning: Maximum number of iteration reached before convergence. Consider increasing max_iter to improve the fit.\n",
      "  warnings.warn(\n",
      "/opt/homebrew/anaconda3/envs/aman/lib/python3.9/site-packages/sklearn/linear_model/_stochastic_gradient.py:723: ConvergenceWarning: Maximum number of iteration reached before convergence. Consider increasing max_iter to improve the fit.\n",
      "  warnings.warn(\n",
      "/opt/homebrew/anaconda3/envs/aman/lib/python3.9/site-packages/sklearn/linear_model/_stochastic_gradient.py:723: ConvergenceWarning: Maximum number of iteration reached before convergence. Consider increasing max_iter to improve the fit.\n",
      "  warnings.warn(\n",
      "/opt/homebrew/anaconda3/envs/aman/lib/python3.9/site-packages/sklearn/linear_model/_stochastic_gradient.py:723: ConvergenceWarning: Maximum number of iteration reached before convergence. Consider increasing max_iter to improve the fit.\n",
      "  warnings.warn(\n"
     ]
    }
   ],
   "source": [
    "def optimize_aman():\n",
    "    model = SGDClassifier(loss=\"hinge\", penalty=\"l2\", max_iter=5)\n",
    "    for i in range(10000):\n",
    "        model.fit(X_train, y_train)\n",
    "        print(\"coef\" , model.coef_, model.coef_.shape)\n",
    "        print(\"intercept\", model.intercept_)    \n",
    "        if model.score(X_test, y_test) == 1:\n",
    "            print(\"YAY\", i)\n",
    "            break\n",
    "\n",
    "optimize_aman()"
   ]
  },
  {
   "cell_type": "markdown",
   "metadata": {},
   "source": [
    "<h3> SVM </h3>"
   ]
  },
  {
   "cell_type": "code",
   "execution_count": 97,
   "metadata": {},
   "outputs": [
    {
     "data": {
      "text/plain": [
       "(array([ 0.        ,  3.33333333,  6.66666667, 10.        ]),\n",
       " (4,),\n",
       " array([ 0.        ,  3.33333333,  6.66666667, 10.        ]),\n",
       " (4,),\n",
       " array([[ 0.        ,  3.33333333,  6.66666667, 10.        ],\n",
       "        [ 0.        ,  3.33333333,  6.66666667, 10.        ],\n",
       "        [ 0.        ,  3.33333333,  6.66666667, 10.        ],\n",
       "        [ 0.        ,  3.33333333,  6.66666667, 10.        ]]),\n",
       " (4, 4),\n",
       " array([[ 0.        ,  0.        ,  0.        ,  0.        ],\n",
       "        [ 3.33333333,  3.33333333,  3.33333333,  3.33333333],\n",
       "        [ 6.66666667,  6.66666667,  6.66666667,  6.66666667],\n",
       "        [10.        , 10.        , 10.        , 10.        ]]),\n",
       " (4, 4))"
      ]
     },
     "execution_count": 97,
     "metadata": {},
     "output_type": "execute_result"
    }
   ],
   "source": [
    "x1, x2 = np.linspace(0, 10, 4), np.linspace(0, 10, 4)\n",
    "X1, X2 = np.meshgrid(x1, x2)\n",
    "x1, x1.shape, x2, x2.shape, X1, X1.shape, X2, X2.shape"
   ]
  },
  {
   "cell_type": "code",
   "execution_count": 125,
   "metadata": {},
   "outputs": [
    {
     "name": "stderr",
     "output_type": "stream",
     "text": [
      "/opt/homebrew/anaconda3/envs/aman/lib/python3.9/site-packages/sklearn/base.py:493: UserWarning: X does not have valid feature names, but SGDClassifier was fitted with feature names\n",
      "  warnings.warn(\n",
      "/opt/homebrew/anaconda3/envs/aman/lib/python3.9/site-packages/sklearn/base.py:493: UserWarning: X does not have valid feature names, but SGDClassifier was fitted with feature names\n",
      "  warnings.warn(\n",
      "/opt/homebrew/anaconda3/envs/aman/lib/python3.9/site-packages/sklearn/base.py:493: UserWarning: X does not have valid feature names, but SGDClassifier was fitted with feature names\n",
      "  warnings.warn(\n",
      "/opt/homebrew/anaconda3/envs/aman/lib/python3.9/site-packages/sklearn/base.py:493: UserWarning: X does not have valid feature names, but SGDClassifier was fitted with feature names\n",
      "  warnings.warn(\n",
      "/opt/homebrew/anaconda3/envs/aman/lib/python3.9/site-packages/sklearn/base.py:493: UserWarning: X does not have valid feature names, but SGDClassifier was fitted with feature names\n",
      "  warnings.warn(\n",
      "/opt/homebrew/anaconda3/envs/aman/lib/python3.9/site-packages/sklearn/base.py:493: UserWarning: X does not have valid feature names, but SGDClassifier was fitted with feature names\n",
      "  warnings.warn(\n",
      "/opt/homebrew/anaconda3/envs/aman/lib/python3.9/site-packages/sklearn/base.py:493: UserWarning: X does not have valid feature names, but SGDClassifier was fitted with feature names\n",
      "  warnings.warn(\n",
      "/opt/homebrew/anaconda3/envs/aman/lib/python3.9/site-packages/sklearn/base.py:493: UserWarning: X does not have valid feature names, but SGDClassifier was fitted with feature names\n",
      "  warnings.warn(\n",
      "/opt/homebrew/anaconda3/envs/aman/lib/python3.9/site-packages/sklearn/base.py:493: UserWarning: X does not have valid feature names, but SGDClassifier was fitted with feature names\n",
      "  warnings.warn(\n",
      "/opt/homebrew/anaconda3/envs/aman/lib/python3.9/site-packages/sklearn/base.py:493: UserWarning: X does not have valid feature names, but SGDClassifier was fitted with feature names\n",
      "  warnings.warn(\n",
      "/opt/homebrew/anaconda3/envs/aman/lib/python3.9/site-packages/sklearn/base.py:493: UserWarning: X does not have valid feature names, but SGDClassifier was fitted with feature names\n",
      "  warnings.warn(\n",
      "/opt/homebrew/anaconda3/envs/aman/lib/python3.9/site-packages/sklearn/base.py:493: UserWarning: X does not have valid feature names, but SGDClassifier was fitted with feature names\n",
      "  warnings.warn(\n",
      "/opt/homebrew/anaconda3/envs/aman/lib/python3.9/site-packages/sklearn/base.py:493: UserWarning: X does not have valid feature names, but SGDClassifier was fitted with feature names\n",
      "  warnings.warn(\n",
      "/opt/homebrew/anaconda3/envs/aman/lib/python3.9/site-packages/sklearn/base.py:493: UserWarning: X does not have valid feature names, but SGDClassifier was fitted with feature names\n",
      "  warnings.warn(\n",
      "/opt/homebrew/anaconda3/envs/aman/lib/python3.9/site-packages/sklearn/base.py:493: UserWarning: X does not have valid feature names, but SGDClassifier was fitted with feature names\n",
      "  warnings.warn(\n",
      "/opt/homebrew/anaconda3/envs/aman/lib/python3.9/site-packages/sklearn/base.py:493: UserWarning: X does not have valid feature names, but SGDClassifier was fitted with feature names\n",
      "  warnings.warn(\n"
     ]
    },
    {
     "data": {
      "text/plain": [
       "array([[2., 2., 2., 2.],\n",
       "       [2., 2., 2., 2.],\n",
       "       [2., 2., 2., 2.],\n",
       "       [2., 2., 2., 2.]])"
      ]
     },
     "execution_count": 125,
     "metadata": {},
     "output_type": "execute_result"
    }
   ],
   "source": [
    "Z = np.zeros(X1.shape)\n",
    "\n",
    "for i in range(X1.shape[0]):\n",
    "    for j in range(X1.shape[1]):\n",
    "        Z[i, j] = model.predict([[*X1[i]]])\n",
    "Z"
   ]
  },
  {
   "cell_type": "code",
   "execution_count": 116,
   "metadata": {},
   "outputs": [
    {
     "data": {
      "text/plain": [
       "array([[ 0.        ,  3.33333333,  6.66666667, 10.        ],\n",
       "       [ 0.        ,  3.33333333,  6.66666667, 10.        ],\n",
       "       [ 0.        ,  3.33333333,  6.66666667, 10.        ],\n",
       "       [ 0.        ,  3.33333333,  6.66666667, 10.        ]])"
      ]
     },
     "execution_count": 116,
     "metadata": {},
     "output_type": "execute_result"
    }
   ],
   "source": [
    "X1[:10]"
   ]
  },
  {
   "cell_type": "code",
   "execution_count": 126,
   "metadata": {},
   "outputs": [
    {
     "name": "stdout",
     "output_type": "stream",
     "text": [
      "[ 0.          3.33333333  6.66666667 10.        ]\n"
     ]
    }
   ],
   "source": [
    "print(X1[2])"
   ]
  },
  {
   "cell_type": "code",
   "execution_count": 133,
   "metadata": {},
   "outputs": [
    {
     "ename": "InvalidIndexError",
     "evalue": "(slice(None, None, None), 0)",
     "output_type": "error",
     "traceback": [
      "\u001b[0;31m---------------------------------------------------------------------------\u001b[0m",
      "\u001b[0;31mTypeError\u001b[0m                                 Traceback (most recent call last)",
      "File \u001b[0;32m/opt/homebrew/anaconda3/envs/aman/lib/python3.9/site-packages/pandas/core/indexes/base.py:3805\u001b[0m, in \u001b[0;36mIndex.get_loc\u001b[0;34m(self, key)\u001b[0m\n\u001b[1;32m   3804\u001b[0m \u001b[38;5;28;01mtry\u001b[39;00m:\n\u001b[0;32m-> 3805\u001b[0m     \u001b[38;5;28;01mreturn\u001b[39;00m \u001b[38;5;28;43mself\u001b[39;49m\u001b[38;5;241;43m.\u001b[39;49m\u001b[43m_engine\u001b[49m\u001b[38;5;241;43m.\u001b[39;49m\u001b[43mget_loc\u001b[49m\u001b[43m(\u001b[49m\u001b[43mcasted_key\u001b[49m\u001b[43m)\u001b[49m\n\u001b[1;32m   3806\u001b[0m \u001b[38;5;28;01mexcept\u001b[39;00m \u001b[38;5;167;01mKeyError\u001b[39;00m \u001b[38;5;28;01mas\u001b[39;00m err:\n",
      "File \u001b[0;32mindex.pyx:167\u001b[0m, in \u001b[0;36mpandas._libs.index.IndexEngine.get_loc\u001b[0;34m()\u001b[0m\n",
      "File \u001b[0;32mindex.pyx:173\u001b[0m, in \u001b[0;36mpandas._libs.index.IndexEngine.get_loc\u001b[0;34m()\u001b[0m\n",
      "\u001b[0;31mTypeError\u001b[0m: '(slice(None, None, None), 0)' is an invalid key",
      "\nDuring handling of the above exception, another exception occurred:\n",
      "\u001b[0;31mInvalidIndexError\u001b[0m                         Traceback (most recent call last)",
      "Cell \u001b[0;32mIn[133], line 5\u001b[0m\n\u001b[1;32m      3\u001b[0m colors \u001b[38;5;241m=\u001b[39m \u001b[38;5;124m\"\u001b[39m\u001b[38;5;124mk\u001b[39m\u001b[38;5;124m\"\u001b[39m\n\u001b[1;32m      4\u001b[0m plt\u001b[38;5;241m.\u001b[39mcontour(X1, X2, Z, levels, colors\u001b[38;5;241m=\u001b[39mcolors, linestyles\u001b[38;5;241m=\u001b[39mlinestyles)\n\u001b[0;32m----> 5\u001b[0m plt\u001b[38;5;241m.\u001b[39mscatter(\u001b[43mX\u001b[49m\u001b[43m[\u001b[49m\u001b[43m:\u001b[49m\u001b[43m,\u001b[49m\u001b[43m \u001b[49m\u001b[38;5;241;43m0\u001b[39;49m\u001b[43m]\u001b[49m, X[:, \u001b[38;5;241m1\u001b[39m], c\u001b[38;5;241m=\u001b[39mY, cmap\u001b[38;5;241m=\u001b[39mplt\u001b[38;5;241m.\u001b[39mcm\u001b[38;5;241m.\u001b[39mPaired, edgecolor\u001b[38;5;241m=\u001b[39m\u001b[38;5;124m\"\u001b[39m\u001b[38;5;124mblack\u001b[39m\u001b[38;5;124m\"\u001b[39m, s\u001b[38;5;241m=\u001b[39m\u001b[38;5;241m20\u001b[39m)\n\u001b[1;32m      6\u001b[0m plt\u001b[38;5;241m.\u001b[39mshow()\n",
      "File \u001b[0;32m/opt/homebrew/anaconda3/envs/aman/lib/python3.9/site-packages/pandas/core/frame.py:4090\u001b[0m, in \u001b[0;36mDataFrame.__getitem__\u001b[0;34m(self, key)\u001b[0m\n\u001b[1;32m   4088\u001b[0m \u001b[38;5;28;01mif\u001b[39;00m \u001b[38;5;28mself\u001b[39m\u001b[38;5;241m.\u001b[39mcolumns\u001b[38;5;241m.\u001b[39mnlevels \u001b[38;5;241m>\u001b[39m \u001b[38;5;241m1\u001b[39m:\n\u001b[1;32m   4089\u001b[0m     \u001b[38;5;28;01mreturn\u001b[39;00m \u001b[38;5;28mself\u001b[39m\u001b[38;5;241m.\u001b[39m_getitem_multilevel(key)\n\u001b[0;32m-> 4090\u001b[0m indexer \u001b[38;5;241m=\u001b[39m \u001b[38;5;28;43mself\u001b[39;49m\u001b[38;5;241;43m.\u001b[39;49m\u001b[43mcolumns\u001b[49m\u001b[38;5;241;43m.\u001b[39;49m\u001b[43mget_loc\u001b[49m\u001b[43m(\u001b[49m\u001b[43mkey\u001b[49m\u001b[43m)\u001b[49m\n\u001b[1;32m   4091\u001b[0m \u001b[38;5;28;01mif\u001b[39;00m is_integer(indexer):\n\u001b[1;32m   4092\u001b[0m     indexer \u001b[38;5;241m=\u001b[39m [indexer]\n",
      "File \u001b[0;32m/opt/homebrew/anaconda3/envs/aman/lib/python3.9/site-packages/pandas/core/indexes/base.py:3817\u001b[0m, in \u001b[0;36mIndex.get_loc\u001b[0;34m(self, key)\u001b[0m\n\u001b[1;32m   3812\u001b[0m     \u001b[38;5;28;01mraise\u001b[39;00m \u001b[38;5;167;01mKeyError\u001b[39;00m(key) \u001b[38;5;28;01mfrom\u001b[39;00m \u001b[38;5;21;01merr\u001b[39;00m\n\u001b[1;32m   3813\u001b[0m \u001b[38;5;28;01mexcept\u001b[39;00m \u001b[38;5;167;01mTypeError\u001b[39;00m:\n\u001b[1;32m   3814\u001b[0m     \u001b[38;5;66;03m# If we have a listlike key, _check_indexing_error will raise\u001b[39;00m\n\u001b[1;32m   3815\u001b[0m     \u001b[38;5;66;03m#  InvalidIndexError. Otherwise we fall through and re-raise\u001b[39;00m\n\u001b[1;32m   3816\u001b[0m     \u001b[38;5;66;03m#  the TypeError.\u001b[39;00m\n\u001b[0;32m-> 3817\u001b[0m     \u001b[38;5;28;43mself\u001b[39;49m\u001b[38;5;241;43m.\u001b[39;49m\u001b[43m_check_indexing_error\u001b[49m\u001b[43m(\u001b[49m\u001b[43mkey\u001b[49m\u001b[43m)\u001b[49m\n\u001b[1;32m   3818\u001b[0m     \u001b[38;5;28;01mraise\u001b[39;00m\n",
      "File \u001b[0;32m/opt/homebrew/anaconda3/envs/aman/lib/python3.9/site-packages/pandas/core/indexes/base.py:6059\u001b[0m, in \u001b[0;36mIndex._check_indexing_error\u001b[0;34m(self, key)\u001b[0m\n\u001b[1;32m   6055\u001b[0m \u001b[38;5;28;01mdef\u001b[39;00m \u001b[38;5;21m_check_indexing_error\u001b[39m(\u001b[38;5;28mself\u001b[39m, key):\n\u001b[1;32m   6056\u001b[0m     \u001b[38;5;28;01mif\u001b[39;00m \u001b[38;5;129;01mnot\u001b[39;00m is_scalar(key):\n\u001b[1;32m   6057\u001b[0m         \u001b[38;5;66;03m# if key is not a scalar, directly raise an error (the code below\u001b[39;00m\n\u001b[1;32m   6058\u001b[0m         \u001b[38;5;66;03m# would convert to numpy arrays and raise later any way) - GH29926\u001b[39;00m\n\u001b[0;32m-> 6059\u001b[0m         \u001b[38;5;28;01mraise\u001b[39;00m InvalidIndexError(key)\n",
      "\u001b[0;31mInvalidIndexError\u001b[0m: (slice(None, None, None), 0)"
     ]
    },
    {
     "data": {
      "image/png": "[encoded data removed]",
      "text/plain": [
       "<Figure size 640x480 with 1 Axes>"
      ]
     },
     "metadata": {},
     "output_type": "display_data"
    }
   ],
   "source": [
    "levels = [-1.0, 0.0, 1.0]\n",
    "linestyles = [\"dashed\", \"solid\", \"dashed\"]\n",
    "colors = \"k\"\n",
    "plt.contour(X1, X2, Z, levels, colors=colors, linestyles=linestyles)\n",
    "plt.scatter(X[:, 0], X[:, 1], c=Y, cmap=plt.cm.Paired, edgecolor=\"black\", s=20)\n",
    "plt.show()"
   ]
  },
  {
   "cell_type": "code",
   "execution_count": 137,
   "metadata": {},
   "outputs": [
    {
     "data": {
      "text/plain": [
       "(array([[ 5.89888089,  9.28930797],\n",
       "        [ 4.24056397, 11.47970407],\n",
       "        [ 1.28478015, -5.03103384],\n",
       "        [ 3.93023753,  9.82536929],\n",
       "        [ 1.08021312, -2.78703476],\n",
       "        [-0.65927743, -5.92648142],\n",
       "        [ 0.75863991, -4.24016115],\n",
       "        [ 6.85278649,  9.86854605],\n",
       "        [ 7.1943998 , 10.3454207 ],\n",
       "        [-2.33162457, -5.23847207],\n",
       "        [-0.78077888, -5.37306463],\n",
       "        [ 3.043074  , -5.05701134],\n",
       "        [ 4.51719047, 10.03947743],\n",
       "        [-0.97693738, -5.80243175],\n",
       "        [-1.24424733, -6.68750915],\n",
       "        [ 5.01192902, 11.14608578],\n",
       "        [ 4.67551571,  8.90416098],\n",
       "        [ 1.65161771, -4.1023685 ],\n",
       "        [ 4.9775448 ,  9.55481691],\n",
       "        [-1.98561222, -6.59519583],\n",
       "        [ 1.04448471, -4.54739568],\n",
       "        [-0.59623034, -6.7230102 ],\n",
       "        [ 2.09058871, -3.91156572],\n",
       "        [ 0.97870007, -4.86176358],\n",
       "        [-0.28427196, -5.77038508],\n",
       "        [ 5.64004311, 10.6244658 ],\n",
       "        [-1.08072108, -7.62502181],\n",
       "        [ 2.75909101, -5.98615963],\n",
       "        [ 0.67051321, -5.5207991 ],\n",
       "        [-1.12359874, -7.04797046],\n",
       "        [-2.86150069, -7.18685291],\n",
       "        [ 1.62312313, -4.62119417],\n",
       "        [-1.08693172, -5.36720005],\n",
       "        [-0.38655066, -6.60815326],\n",
       "        [ 2.32176181, -3.00462467],\n",
       "        [ 1.85306403, -6.01204703],\n",
       "        [ 1.55552316, -3.57285831],\n",
       "        [ 1.11119454, -5.01431034],\n",
       "        [-2.41133821, -8.30175783],\n",
       "        [-2.05560439, -7.02015759],\n",
       "        [ 5.52860769,  8.72733188],\n",
       "        [ 6.30834124,  8.89112259],\n",
       "        [ 6.0421438 , 10.3548076 ],\n",
       "        [ 4.74550501, -4.95761583],\n",
       "        [-1.38960434, -5.63097   ],\n",
       "        [-0.76377497, -7.72502762],\n",
       "        [ 0.7927644 , -5.65931799],\n",
       "        [-1.17201975, -7.09489823],\n",
       "        [-1.51783124, -7.46641134],\n",
       "        [ 5.71641654,  9.69616274],\n",
       "        [-1.23775531, -6.1945189 ],\n",
       "        [ 4.83279297,  8.23798446],\n",
       "        [-4.22840434, -5.28647749],\n",
       "        [-2.44641803, -6.53101585],\n",
       "        [ 0.5232821 , -6.55839185],\n",
       "        [ 1.94771602, -5.10498283],\n",
       "        [-1.92797709, -5.16566709],\n",
       "        [ 0.65331616, -4.09068007],\n",
       "        [-0.53848668, -6.54192294],\n",
       "        [ 4.24512651, 10.12962419],\n",
       "        [ 6.90875096,  9.64412477],\n",
       "        [ 2.84334872, -7.20010212],\n",
       "        [ 4.94657508,  9.79046355],\n",
       "        [ 5.89914772,  8.52386306],\n",
       "        [-1.76286286, -7.33652285],\n",
       "        [ 5.53750834, 12.80114978],\n",
       "        [ 6.33544845, 10.44375144],\n",
       "        [ 3.18743945,  9.46555066],\n",
       "        [-2.39103108, -4.84276983],\n",
       "        [ 3.56198189, 11.31706702],\n",
       "        [ 1.05165995, -6.06717535],\n",
       "        [ 2.95772025,  8.88949012],\n",
       "        [ 2.60978629, -3.15826892],\n",
       "        [-1.95412341, -6.35096166],\n",
       "        [ 1.81922263, -4.35778821],\n",
       "        [ 6.56083165, 10.4504265 ],\n",
       "        [-0.45656726, -5.46776878],\n",
       "        [ 2.44557758, -5.79021014],\n",
       "        [ 5.76819875, 10.37105928],\n",
       "        [ 5.12530928, 10.96424914],\n",
       "        [ 2.18716409, -3.99714932],\n",
       "        [ 1.10135414, -5.72048282],\n",
       "        [ 2.26126522, -5.15084078],\n",
       "        [-2.05527297, -5.33623411],\n",
       "        [ 4.64864097,  9.21819569],\n",
       "        [ 1.13968524, -3.69845578],\n",
       "        [ 5.20003521,  9.63941844],\n",
       "        [ 5.2576965 ,  8.50328228],\n",
       "        [-1.06793443, -4.09563175],\n",
       "        [ 2.78687485, -6.17686954],\n",
       "        [-0.45014152, -6.34784415],\n",
       "        [ 2.27821691, -4.58640417],\n",
       "        [ 4.78807338,  8.54897544],\n",
       "        [-1.85218732, -7.76609465],\n",
       "        [ 5.26336027,  8.51800304],\n",
       "        [ 6.14867984, 10.64292916],\n",
       "        [ 1.5168331 , -5.26203889],\n",
       "        [-1.75802635, -5.79511629],\n",
       "        [ 1.5113467 , -5.74435848],\n",
       "        [-3.15355906, -6.8237404 ]]),\n",
       " (100, 2),\n",
       " array([1, 1, 0, 1, 0, 2, 0, 1, 1, 2, 2, 0, 1, 2, 2, 1, 1, 0, 1, 2, 0, 2,\n",
       "        0, 0, 2, 1, 2, 0, 0, 2, 2, 0, 2, 2, 0, 0, 0, 0, 2, 2, 1, 1, 1, 0,\n",
       "        2, 2, 0, 2, 2, 1, 2, 1, 2, 2, 0, 0, 2, 0, 2, 1, 1, 0, 1, 1, 2, 1,\n",
       "        1, 1, 2, 1, 0, 1, 0, 2, 0, 1, 2, 0, 1, 1, 0, 0, 0, 2, 1, 0, 1, 1,\n",
       "        0, 0, 2, 0, 1, 2, 1, 1, 0, 2, 0, 2]),\n",
       " (100,))"
      ]
     },
     "execution_count": 137,
     "metadata": {},
     "output_type": "execute_result"
    }
   ],
   "source": [
    "X,y = make_blobs()\n",
    "x_train, x_test, y_train, y_test = train_test_split(X,y)\n",
    "X, X.shape, y, y.shape"
   ]
  },
  {
   "cell_type": "code",
   "execution_count": 139,
   "metadata": {},
   "outputs": [],
   "source": [
    "clf = SGDClassifier(loss=\"hinge\").fit(x_train, y_train)"
   ]
  },
  {
   "cell_type": "code",
   "execution_count": 167,
   "metadata": {},
   "outputs": [
    {
     "ename": "ValueError",
     "evalue": "setting an array element with a sequence.",
     "output_type": "error",
     "traceback": [
      "\u001b[0;31m---------------------------------------------------------------------------\u001b[0m",
      "\u001b[0;31mTypeError\u001b[0m                                 Traceback (most recent call last)",
      "\u001b[0;31mTypeError\u001b[0m: only size-1 arrays can be converted to Python scalars",
      "\nThe above exception was the direct cause of the following exception:\n",
      "\u001b[0;31mValueError\u001b[0m                                Traceback (most recent call last)",
      "Cell \u001b[0;32mIn[167], line 10\u001b[0m\n\u001b[1;32m      8\u001b[0m x2 \u001b[38;5;241m=\u001b[39m X2[i, j]\n\u001b[1;32m      9\u001b[0m p \u001b[38;5;241m=\u001b[39m clf\u001b[38;5;241m.\u001b[39mdecision_function([[x1, x2]])\n\u001b[0;32m---> 10\u001b[0m \u001b[43mZ\u001b[49m\u001b[43m[\u001b[49m\u001b[43mi\u001b[49m\u001b[43m,\u001b[49m\u001b[43m \u001b[49m\u001b[43mj\u001b[49m\u001b[43m]\u001b[49m \u001b[38;5;241m=\u001b[39m p[\u001b[38;5;241m0\u001b[39m]\n",
      "\u001b[0;31mValueError\u001b[0m: setting an array element with a sequence."
     ]
    }
   ],
   "source": [
    "xx = np.linspace(-1, 5, 10)\n",
    "yy = np.linspace(-1, 5, 10)\n",
    "X1, X2 = np.meshgrid(xx, yy)\n",
    "Z = np.empty(X1.shape)\n",
    "\n",
    "\n",
    "for (i,j), val in np.ndenumerate(X1):\n",
    "    x1 = val\n",
    "    x2 = X2[i, j]\n",
    "    p = clf.decision_function([[x1, x2]])\n",
    "    Z[i, j] = p[0]\n",
    "    "
   ]
  },
  {
   "cell_type": "code",
   "execution_count": 166,
   "metadata": {},
   "outputs": [
    {
     "data": {
      "text/plain": [
       "(array([[-1.        , -0.33333333,  0.33333333,  1.        ,  1.66666667,\n",
       "          2.33333333,  3.        ,  3.66666667,  4.33333333,  5.        ],\n",
       "        [-1.        , -0.33333333,  0.33333333,  1.        ,  1.66666667,\n",
       "          2.33333333,  3.        ,  3.66666667,  4.33333333,  5.        ],\n",
       "        [-1.        , -0.33333333,  0.33333333,  1.        ,  1.66666667,\n",
       "          2.33333333,  3.        ,  3.66666667,  4.33333333,  5.        ],\n",
       "        [-1.        , -0.33333333,  0.33333333,  1.        ,  1.66666667,\n",
       "          2.33333333,  3.        ,  3.66666667,  4.33333333,  5.        ],\n",
       "        [-1.        , -0.33333333,  0.33333333,  1.        ,  1.66666667,\n",
       "          2.33333333,  3.        ,  3.66666667,  4.33333333,  5.        ]]),\n",
       " array([[-1.        , -1.        , -1.        , -1.        , -1.        ,\n",
       "         -1.        , -1.        , -1.        , -1.        , -1.        ],\n",
       "        [-0.33333333, -0.33333333, -0.33333333, -0.33333333, -0.33333333,\n",
       "         -0.33333333, -0.33333333, -0.33333333, -0.33333333, -0.33333333],\n",
       "        [ 0.33333333,  0.33333333,  0.33333333,  0.33333333,  0.33333333,\n",
       "          0.33333333,  0.33333333,  0.33333333,  0.33333333,  0.33333333],\n",
       "        [ 1.        ,  1.        ,  1.        ,  1.        ,  1.        ,\n",
       "          1.        ,  1.        ,  1.        ,  1.        ,  1.        ],\n",
       "        [ 1.66666667,  1.66666667,  1.66666667,  1.66666667,  1.66666667,\n",
       "          1.66666667,  1.66666667,  1.66666667,  1.66666667,  1.66666667]]),\n",
       " array([[0., 0., 0., 0., 0., 0., 0., 0., 0., 0.],\n",
       "        [0., 0., 0., 0., 0., 0., 0., 0., 0., 0.],\n",
       "        [0., 0., 0., 0., 0., 0., 0., 0., 0., 0.],\n",
       "        [0., 0., 0., 0., 0., 0., 0., 0., 0., 0.],\n",
       "        [0., 0., 0., 0., 0., 0., 0., 0., 0., 0.]]))"
      ]
     },
     "execution_count": 166,
     "metadata": {},
     "output_type": "execute_result"
    }
   ],
   "source": [
    "X1[:5], X2[:5], Z[:5]"
   ]
  },
  {
   "cell_type": "code",
   "execution_count": 170,
   "metadata": {},
   "outputs": [
    {
     "data": {
      "text/plain": [
       "<matplotlib.contour.QuadContourSet at 0x28b102b50>"
      ]
     },
     "execution_count": 170,
     "metadata": {},
     "output_type": "execute_result"
    },
    {
     "data": {
      "image/png": "[encoded data removed]",
      "text/plain": [
       "<Figure size 640x480 with 1 Axes>"
      ]
     },
     "metadata": {},
     "output_type": "display_data"
    }
   ],
   "source": [
    "# we create 50 separable points\n",
    "X, Y = make_blobs(n_samples=50, centers=2, random_state=0, cluster_std=0.60)\n",
    "\n",
    "# fit the model\n",
    "clf = SGDClassifier(loss=\"hinge\", alpha=0.01, max_iter=200)\n",
    "\n",
    "clf.fit(X, Y)\n",
    "\n",
    "# plot the line, the points, and the nearest vectors to the plane\n",
    "xx = np.linspace(-1, 5, 10)\n",
    "yy = np.linspace(-1, 5, 10)\n",
    "\n",
    "X1, X2 = np.meshgrid(xx, yy)\n",
    "Z = np.empty(X1.shape)\n",
    "for (i, j), val in np.ndenumerate(X1):\n",
    "    x1 = val\n",
    "    x2 = X2[i, j]\n",
    "    p = clf.decision_function([[x1, x2]])\n",
    "    Z[i, j] = p[0]\n",
    "levels = [-1.0, 0.0, 1.0]\n",
    "linestyles = [\"dashed\", \"solid\", \"dashed\"]\n",
    "colors = \"k\"\n",
    "plt.contour(X1, X2, Z, levels, colors=colors, linestyles=linestyles)\n",
    "# plt.scatter(X[:, 0], X[:, 1], c=Y, cmap=plt.cm.Paired, edgecolor=\"black\", s=20)"
   ]
  },
  {
   "cell_type": "code",
   "execution_count": null,
   "metadata": {},
   "outputs": [],
   "source": []
  }
 ],
 "metadata": {
  "kernelspec": {
   "display_name": "aman",
   "language": "python",
   "name": "python3"
  },
  "language_info": {
   "codemirror_mode": {
    "name": "ipython",
    "version": 3
   },
   "file_extension": ".py",
   "mimetype": "text/x-python",
   "name": "python",
   "nbconvert_exporter": "python",
   "pygments_lexer": "ipython3",
   "version": "3.9.18"
  }
 },
 "nbformat": 4,
 "nbformat_minor": 2
}
