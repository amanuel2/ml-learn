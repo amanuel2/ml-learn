{
 "cells": [
  {
   "cell_type": "code",
   "execution_count": 4,
   "metadata": {},
   "outputs": [],
   "source": [
    "import matplotlib.pyplot as plt\n",
    "import numpy as np\n",
    "from sklearn import datasets\n",
    "from sklearn.inspection import DecisionBoundaryDisplay \n",
    "from sklearn.linear_model import SGDClassifier"
   ]
  },
  {
   "cell_type": "code",
   "execution_count": 5,
   "metadata": {},
   "outputs": [
    {
     "data": {
      "text/plain": [
       "(array([[5.1, 3.5],\n",
       "        [4.9, 3. ],\n",
       "        [4.7, 3.2],\n",
       "        [4.6, 3.1],\n",
       "        [5. , 3.6],\n",
       "        [5.4, 3.9],\n",
       "        [4.6, 3.4],\n",
       "        [5. , 3.4],\n",
       "        [4.4, 2.9],\n",
       "        [4.9, 3.1]]),\n",
       " array([0, 0, 0, 0, 0, 0, 0, 0, 0, 0]),\n",
       " (150,))"
      ]
     },
     "execution_count": 5,
     "metadata": {},
     "output_type": "execute_result"
    }
   ],
   "source": [
    "X,Y = datasets.load_iris(return_X_y=True)\n",
    "X = X[:, :2] # only 2 features\n",
    "X[:10], Y[:10], Y.shape"
   ]
  },
  {
   "cell_type": "code",
   "execution_count": 6,
   "metadata": {},
   "outputs": [
    {
     "data": {
      "text/plain": [
       "(array([127,  92,  23,  34,  59,  19, 142, 123,  25,  48]),\n",
       " array([[5.1, 3.5],\n",
       "        [4.9, 3. ],\n",
       "        [4.7, 3.2],\n",
       "        [4.6, 3.1],\n",
       "        [5. , 3.6],\n",
       "        [5.4, 3.9],\n",
       "        [4.6, 3.4],\n",
       "        [5. , 3.4],\n",
       "        [4.4, 2.9],\n",
       "        [4.9, 3.1]]),\n",
       " array([[6.1, 3. ],\n",
       "        [5.8, 2.6],\n",
       "        [5.1, 3.3],\n",
       "        [4.9, 3.1],\n",
       "        [5.2, 2.7],\n",
       "        [5.1, 3.8],\n",
       "        [5.8, 2.7],\n",
       "        [6.3, 2.7],\n",
       "        [5. , 3. ],\n",
       "        [5.3, 3.7]]))"
      ]
     },
     "execution_count": 6,
     "metadata": {},
     "output_type": "execute_result"
    }
   ],
   "source": [
    "tmp = np.arange(Y.shape[0])\n",
    "np.random.seed()\n",
    "np.random.shuffle(tmp)\n",
    "tmp[:10], X[:10], X[tmp][:10]"
   ]
  },
  {
   "cell_type": "code",
   "execution_count": 7,
   "metadata": {},
   "outputs": [],
   "source": [
    "mean, std = X.mean(), X.std()\n"
   ]
  },
  {
   "cell_type": "code",
   "execution_count": 8,
   "metadata": {},
   "outputs": [
    {
     "data": {
      "image/png": "[encoded data removed]",
      "text/plain": [
       "<Figure size 640x480 with 1 Axes>"
      ]
     },
     "metadata": {},
     "output_type": "display_data"
    }
   ],
   "source": [
    "clf = SGDClassifier(alpha=0.001, max_iter=100).fit(X, Y)\n",
    "ax = plt.gca()"
   ]
  },
  {
   "cell_type": "code",
   "execution_count": 19,
   "metadata": {},
   "outputs": [
    {
     "name": "stderr",
     "output_type": "stream",
     "text": [
      "/var/folders/_2/y461zwnj1zvg7rpcqwc9zm640000gn/T/ipykernel_83781/655203365.py:16: UserWarning: No data for colormapping provided via 'c'. Parameters 'cmap' will be ignored\n",
      "  plt.scatter(\n"
     ]
    },
    {
     "data": {
      "image/png": "[encoded data removed]",
      "text/plain": [
       "<Figure size 640x480 with 1 Axes>"
      ]
     },
     "metadata": {},
     "output_type": "display_data"
    }
   ],
   "source": [
    "DecisionBoundaryDisplay.from_estimator(\n",
    "    clf,\n",
    "    X,\n",
    "    cmap=plt.cm.Paired,\n",
    "    ax=ax,\n",
    "    response_method=\"predict\",\n",
    "    xlabel=\"feature 1\",\n",
    "    ylabel=\"feature 2\",\n",
    ")\n",
    "\n",
    "colors = [\"red\", \"blue\"]\n",
    "\n",
    "# Plot also the training points (as scatter)\n",
    "for i, color in zip(clf.classes_, colors): \n",
    "    idx = np.where(Y == i)\n",
    "    plt.scatter(\n",
    "            X[idx, 0],\n",
    "            X[idx, 1],\n",
    "            c=color,\n",
    "            label=f\"target{i}\",\n",
    "            cmap=plt.cm.Paired,\n",
    "            # edgecolor=\"black\",\n",
    "    s=20, )\n",
    "\n",
    "# hyperplane\n",
    "xmin, xmax = plt.xlim()\n",
    "# ymin, ymax = plt.ylim()\n",
    "coef, intercept = clf.coef_, clf.intercept_\n",
    "\n",
    "def plot_hyperplane(c, color): \n",
    "    def line(x0):\n",
    "        return (-(x0 * coef[c, 0]) - intercept[c]) / coef[c, 1] \n",
    "    plt.plot([xmin, xmax], [line(xmin), line(xmax)], ls=\"--\", color=color)\n",
    "\n",
    "\n",
    "for i, color in zip(clf.classes_, colors): \n",
    "    plot_hyperplane(i, color)\n",
    "plt.show()"
   ]
  },
  {
   "cell_type": "code",
   "execution_count": null,
   "metadata": {},
   "outputs": [],
   "source": [
    "\n"
   ]
  },
  {
   "cell_type": "code",
   "execution_count": null,
   "metadata": {},
   "outputs": [],
   "source": [
    "\n"
   ]
  },
  {
   "cell_type": "code",
   "execution_count": null,
   "metadata": {},
   "outputs": [],
   "source": []
  }
 ],
 "metadata": {
  "kernelspec": {
   "display_name": "aman",
   "language": "python",
   "name": "python3"
  },
  "language_info": {
   "codemirror_mode": {
    "name": "ipython",
    "version": 3
   },
   "file_extension": ".py",
   "mimetype": "text/x-python",
   "name": "python",
   "nbconvert_exporter": "python",
   "pygments_lexer": "ipython3",
   "version": "3.9.18"
  }
 },
 "nbformat": 4,
 "nbformat_minor": 2
}
